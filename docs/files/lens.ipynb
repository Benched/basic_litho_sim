{
 "cells": [
  {
   "cell_type": "code",
   "execution_count": 1,
   "id": "b12081da-b03d-43ab-9709-0a6bf405469f",
   "metadata": {},
   "outputs": [],
   "source": [
    "from fourier import fourier2d, ifourier2d\n",
    "from lens import defines\n",
    "import numpy as np"
   ]
  },
  {
   "cell_type": "markdown",
   "id": "6d4f9949-4ecc-43f0-9167-8ea10636a36a",
   "metadata": {},
   "source": [
    "# A rough approximation of the lens"
   ]
  },
  {
   "cell_type": "markdown",
   "id": "fddbe472-5f75-4c98-97b2-d08610f322d0",
   "metadata": {},
   "source": [
    "Rather then modeling the actual ASML lenses we simplify:\n",
    "- The image plane is homogeneous\n",
    "- A single Pupil plane exists\n",
    "- No magnification\n",
    "- Homogeneous incoming light / electric field\n",
    "- Several other properties, no doubt... "
   ]
  },
  {
   "cell_type": "code",
   "execution_count": 2,
   "id": "ed3c4ddc-1d6a-4f5f-947e-c1968b29865d",
   "metadata": {},
   "outputs": [],
   "source": [
    "wavelength = 193e-9\n",
    "NA = 1.35"
   ]
  },
  {
   "cell_type": "markdown",
   "id": "46639ae0-2a73-4aba-8510-c34fb31fa25b",
   "metadata": {},
   "source": [
    "$$\n",
    "P = \\left\\{ (f_x, f_y) : \\sqrt{f_x^2 + f_y^2}< \\frac{NA}{\\lambda} \\right\\}\n",
    "$$"
   ]
  },
  {
   "cell_type": "markdown",
   "id": "02f7bd0c-e101-4fd2-867f-6eba16e45bdc",
   "metadata": {},
   "source": [
    "$$\n",
    "f_x = \\frac{n x'}{z \\lambda}\n",
    "$$\n",
    "\n",
    "$$\n",
    "f_x = \\frac{n y'}{z \\lambda}\n",
    "$$\n",
    "\n",
    "So $x'^2 + y'^2 < \\frac{NA \\cdot z}{n}$\n"
   ]
  },
  {
   "cell_type": "markdown",
   "id": "5cadd1ef-a493-4d21-83f1-de01d26b6a58",
   "metadata": {},
   "source": [
    "For $n$ it is not entirely clear whether it is the refractive index of everything between object and image, or whether the immersion fluid under the lens already justifies the usage of $n_{water}$. "
   ]
  },
  {
   "cell_type": "code",
   "execution_count": 3,
   "id": "5a610e63-c172-464d-83d9-9facaf876510",
   "metadata": {},
   "outputs": [],
   "source": [
    "z = .5\n",
    "n = defines.N_WATER_AT_193_NM"
   ]
  },
  {
   "cell_type": "code",
   "execution_count": 4,
   "id": "a4e74a3f-4787-45e6-b87e-559fc77d34b1",
   "metadata": {},
   "outputs": [
    {
     "data": {
      "text/plain": [
       "0.47"
      ]
     },
     "execution_count": 4,
     "metadata": {},
     "output_type": "execute_result"
    }
   ],
   "source": [
    "np.round((NA / wavelength) / (n / (z*wavelength)), 3)"
   ]
  },
  {
   "cell_type": "markdown",
   "id": "e51e1edc-39ab-4bb4-b8db-184fbad34f48",
   "metadata": {},
   "source": [
    "So for our dimensions $x'^2 +y'^2 < .47 m$, let's continue with this simplification for the time being."
   ]
  },
  {
   "cell_type": "markdown",
   "id": "3d999ab3-7661-4a1d-8605-fce98017fcf8",
   "metadata": {},
   "source": [
    "# The pupil plane"
   ]
  },
  {
   "cell_type": "markdown",
   "id": "ab836cce-fa54-477e-8448-930df8eb838c",
   "metadata": {},
   "source": [
    "Let\n",
    "\n",
    "$\n",
    "\\left( \\begin{array}{ll}\n",
    "f_x  \\\\\n",
    "f_y\n",
    "\\end{array} \\right) = \\frac{NA \\cdot R}{ \\lambda}\n",
    "\\left( \\begin{array}{ll}\n",
    "\\cos(\\phi) \\\\\n",
    "\\sin(\\phi)\n",
    "\\end{array} \\right)$"
   ]
  },
  {
   "cell_type": "markdown",
   "id": "25961c8e-8754-4ecc-896b-948027a9d000",
   "metadata": {},
   "source": [
    "Let the object be modeled as an identity function: $\\mathbb{1}_{A}$,\n",
    "\n",
    "$$\n",
    "\\int_{-\\infty}^{\\infty} \\int_{-\\infty}^{\\infty} \\mathbb{1}_A(x, y) e^{-2 \\pi i (f_x x+f_y y)} dx dy\n",
    "$$"
   ]
  },
  {
   "cell_type": "markdown",
   "id": "4da28d7e-6ec0-49f7-b548-9142fb5c3c1c",
   "metadata": {},
   "source": [
    "The pupil plane has a cut of frequency as we saw. This is applied via multiplication with the pupil function:\n",
    "$$\n",
    "P(f_x, f_y) = \\left\\{ \\begin{array}{ll} \n",
    "1 & : \\sqrt{f_x^2 + f_y^2} < \\frac{NA}{\\lambda} \\\\\n",
    "0 & : otherwise\n",
    "\\end{array}\\right.\n",
    "$$"
   ]
  },
  {
   "cell_type": "markdown",
   "id": "9d28f8c1-146f-4980-b7ab-9b830cd6c271",
   "metadata": {},
   "source": [
    "# Including aberrations"
   ]
  },
  {
   "cell_type": "markdown",
   "id": "828509ee-74bd-4770-9e32-b9fa830412ab",
   "metadata": {},
   "source": [
    "We also express aberrations in the pupil plane. For this we add the following additional factor:\n",
    "$$\n",
    "P(f_x, f_y) e^{i 2 \\pi W(R, \\phi)},\n",
    "$$\n",
    "\n",
    "where $W$ corresponds to the wavefront aberrations."
   ]
  },
  {
   "cell_type": "code",
   "execution_count": null,
   "id": "3548e742-d586-4a40-82cd-32ccec204d0e",
   "metadata": {},
   "outputs": [],
   "source": []
  },
  {
   "cell_type": "code",
   "execution_count": null,
   "id": "b5de99ff-ebe5-4149-8318-09ba0d0a1036",
   "metadata": {},
   "outputs": [],
   "source": []
  }
 ],
 "metadata": {
  "kernelspec": {
   "display_name": "Python 3 (ipykernel)",
   "language": "python",
   "name": "python3"
  },
  "language_info": {
   "codemirror_mode": {
    "name": "ipython",
    "version": 3
   },
   "file_extension": ".py",
   "mimetype": "text/x-python",
   "name": "python",
   "nbconvert_exporter": "python",
   "pygments_lexer": "ipython3",
   "version": "3.8.13"
  }
 },
 "nbformat": 4,
 "nbformat_minor": 5
}
